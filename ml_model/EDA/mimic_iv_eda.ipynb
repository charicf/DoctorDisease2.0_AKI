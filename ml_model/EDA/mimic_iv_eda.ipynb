{
 "cells": [
  {
   "cell_type": "code",
   "execution_count": null,
   "metadata": {},
   "outputs": [],
   "source": [
    "import os\n",
    "import sys\n",
    "from pathlib import Path\n",
    "\n",
    "import pandas as pd\n",
    "import plotly.express as px\n",
    "\n",
    "sys.path.insert(0, str(Path(\"\").resolve().parents[1]))\n",
    "from utils.db_manager import MimicDBManager"
   ]
  },
  {
   "cell_type": "code",
   "execution_count": null,
   "metadata": {},
   "outputs": [],
   "source": [
    "width = 1200\n",
    "height = 600\n",
    "img_path = \"/app/ml_model/EDA/images\"\n",
    "Path(img_path).mkdir(parents=True, exist_ok=True)\n",
    "plot_fig = False\n",
    "pd.set_option(\"display.max_rows\", 100)"
   ]
  },
  {
   "cell_type": "code",
   "execution_count": null,
   "metadata": {},
   "outputs": [],
   "source": [
    "db_manager = MimicDBManager(port=5432)\n",
    "db_manager.retrieve_table_names()"
   ]
  },
  {
   "cell_type": "code",
   "execution_count": null,
   "metadata": {},
   "outputs": [],
   "source": [
    "[db_manager.count_rows(table_name=table) for table in db_manager.retrieve_table_names()[:10]]"
   ]
  },
  {
   "cell_type": "code",
   "execution_count": null,
   "metadata": {},
   "outputs": [],
   "source": [
    "table_name = db_manager.retrieve_table_names()[0]\n",
    "db_manager.retrieve_id(table_name, id=18207287, id_column=\"subject_id\")"
   ]
  },
  {
   "cell_type": "code",
   "execution_count": null,
   "metadata": {},
   "outputs": [],
   "source": [
    "pd.DataFrame.from_dict(db_manager.retrieve_column_types(table_name), orient=\"index\", columns=[\"data_type\"]).reset_index(\n",
    "    names=\"column\"\n",
    ")"
   ]
  },
  {
   "cell_type": "code",
   "execution_count": null,
   "metadata": {},
   "outputs": [],
   "source": [
    "tables = (\n",
    "    pd.DataFrame.from_dict(\n",
    "        {table: db_manager.retrieve_column_types(table) for table in db_manager.retrieve_table_names()}, orient=\"index\"\n",
    "    )\n",
    "    .fillna(\"-\")\n",
    "    .sort_index()\n",
    "    .reset_index(names=\"full_table_name\")\n",
    ")\n",
    "tables[[\"parent_table\", \"table_name\"]] = tables.full_table_name.str.split(\".\", expand=True)"
   ]
  },
  {
   "cell_type": "code",
   "execution_count": null,
   "metadata": {},
   "outputs": [],
   "source": [
    "tables[tables.parent_table == \"mimiciv_hosp\"]"
   ]
  },
  {
   "cell_type": "code",
   "execution_count": null,
   "metadata": {},
   "outputs": [],
   "source": [
    "tables[tables.parent_table == \"mimiciv_icu\"]"
   ]
  },
  {
   "cell_type": "code",
   "execution_count": null,
   "metadata": {},
   "outputs": [],
   "source": [
    "tables[tables.parent_table == \"mimiciv_derived\"]"
   ]
  },
  {
   "cell_type": "markdown",
   "metadata": {},
   "source": [
    "There are 63 tables created through the \"concepts\" database building process."
   ]
  },
  {
   "cell_type": "markdown",
   "metadata": {},
   "source": [
    "Let's look now for patients with Acute Renal Failure.\n",
    "\n",
    "Note: ICD-9 Diagnostic codes can be found in: https://www2.gov.bc.ca/assets/gov/health/practitioner-pro/medical-services-plan/diag-codes_genitourinary.pdf"
   ]
  },
  {
   "cell_type": "code",
   "execution_count": null,
   "metadata": {},
   "outputs": [],
   "source": [
    "data = db_manager.retrieve_all(\"mimiciv_hosp.diagnoses_icd\")\n",
    "data[\"icd_code\"] = data[\"icd_code\"].str.strip()\n",
    "arf = data[data.icd_code == \"5848\"]\n",
    "arf"
   ]
  },
  {
   "cell_type": "code",
   "execution_count": null,
   "metadata": {},
   "outputs": [],
   "source": [
    "aki_patients = arf.merge(db_manager.retrieve_all(\"mimiciv_hosp.patients\"), on=\"subject_id\")\n",
    "aki_patients"
   ]
  },
  {
   "cell_type": "code",
   "execution_count": null,
   "metadata": {},
   "outputs": [],
   "source": [
    "fig = px.histogram(\n",
    "    aki_patients,\n",
    "    x=\"anchor_age\",\n",
    "    color=\"gender\",\n",
    "    barmode=\"overlay\",\n",
    "    marginal=\"box\",\n",
    "    text_auto=True,\n",
    "    width=width,\n",
    "    height=height,\n",
    "    title=\"Distribution of Patients with ICD-9 code 5848 in MIMIC-IV\",\n",
    ")\n",
    "if plot_fig:\n",
    "    fig.show()\n",
    "fig.write_image(f\"{img_path}/ICD-9_code-5848_distribution.png\")"
   ]
  },
  {
   "cell_type": "markdown",
   "metadata": {},
   "source": [
    "Not too many patients to work with. How about patients with *any* type of acute renal failure"
   ]
  },
  {
   "cell_type": "code",
   "execution_count": null,
   "metadata": {},
   "outputs": [],
   "source": [
    "data = db_manager.retrieve_all(\"mimiciv_hosp.diagnoses_icd\")\n",
    "data[\"icd_code\"] = data[\"icd_code\"].str.strip()\n",
    "arf = data[data.icd_code.str.startswith(\"584\")]\n",
    "arf"
   ]
  },
  {
   "cell_type": "code",
   "execution_count": null,
   "metadata": {},
   "outputs": [],
   "source": [
    "aki_patients = (\n",
    "    arf.merge(db_manager.retrieve_all(\"mimiciv_hosp.patients\"), on=\"subject_id\")\n",
    "    .merge(db_manager.retrieve_all(\"mimiciv_icu.icustays\"), on=\"subject_id\")\n",
    "    .merge(db_manager.retrieve_all(\"mimiciv_hosp.admissions\"), on=\"subject_id\")\n",
    ")\n",
    "aki_patients[\"deceased\"] = aki_patients[\"dod\"].apply(lambda x: True if str(x).strip() != \"None\" else False)\n",
    "aki_patients[\"icu_stay_days\"] = (aki_patients[\"outtime\"] - aki_patients[\"intime\"]).dt.total_seconds() / 3600 / 24\n",
    "aki_patients"
   ]
  },
  {
   "cell_type": "code",
   "execution_count": null,
   "metadata": {},
   "outputs": [],
   "source": [
    "fig = px.histogram(\n",
    "    aki_patients,\n",
    "    x=\"anchor_age\",\n",
    "    facet_row=\"gender\",\n",
    "    barmode=\"group\",\n",
    "    marginal=\"box\",\n",
    "    color=\"deceased\",\n",
    "    nbins=30,\n",
    "    text_auto=True,\n",
    "    width=width,\n",
    "    height=height,\n",
    "    title=\"Histogram of ARF patients by age, deceased status, and gender\",\n",
    ")\n",
    "if plot_fig:\n",
    "    fig.show()\n",
    "fig.write_image(f\"{img_path}/anchor_age-deceased-gender.png\")"
   ]
  },
  {
   "cell_type": "code",
   "execution_count": null,
   "metadata": {},
   "outputs": [],
   "source": [
    "fig = px.histogram(\n",
    "    aki_patients,\n",
    "    x=\"anchor_age\",\n",
    "    # facet_row=\"race\",\n",
    "    barmode=\"group\",\n",
    "    color=\"race\",\n",
    "    nbins=20,\n",
    "    text_auto=True,\n",
    "    width=width,\n",
    "    height=height,\n",
    "    title=\"Histogram of ARF patients by age and race\",\n",
    ")\n",
    "if plot_fig:\n",
    "    fig.show()\n",
    "fig.write_image(f\"{img_path}/anchor_age-race.png\")"
   ]
  },
  {
   "cell_type": "markdown",
   "metadata": {},
   "source": [
    "The top 2 groups overshadow the rest, let's remove them so we can take a better look at the other groups"
   ]
  },
  {
   "cell_type": "code",
   "execution_count": null,
   "metadata": {},
   "outputs": [],
   "source": [
    "fig = px.histogram(\n",
    "    aki_patients[\n",
    "        ~aki_patients.race.isin(aki_patients.value_counts(subset=\"race\").reset_index().race.loc[:1].to_list())\n",
    "    ],\n",
    "    x=\"anchor_age\",\n",
    "    # facet_row=\"race\",\n",
    "    barmode=\"group\",\n",
    "    color=\"race\",\n",
    "    nbins=20,\n",
    "    text_auto=True,\n",
    "    width=width,\n",
    "    height=height,\n",
    "    title=\"Histogram of ARF patients by age and race excluding top 2\",\n",
    ")\n",
    "if plot_fig:\n",
    "    fig.show()\n",
    "fig.write_image(f\"{img_path}/anchor_age-race_no_top_2.png\")"
   ]
  },
  {
   "cell_type": "code",
   "execution_count": null,
   "metadata": {},
   "outputs": [],
   "source": [
    "fig = px.histogram(\n",
    "    aki_patients[aki_patients.race.str.lower().str.contains(\"hispanic\")],\n",
    "    x=\"anchor_age\",\n",
    "    # facet_row=\"race\",\n",
    "    barmode=\"group\",\n",
    "    color=\"race\",\n",
    "    nbins=20,\n",
    "    text_auto=True,\n",
    "    width=width,\n",
    "    height=height,\n",
    "    title=\"Histogram of ARF patients by age and race for hispanics\",\n",
    ")\n",
    "if plot_fig:\n",
    "    fig.show()\n",
    "fig.write_image(f\"{img_path}/anchor_age-race_hispanic.png\")"
   ]
  },
  {
   "cell_type": "markdown",
   "metadata": {},
   "source": [
    "91 is the hard limit for age on the DB, to guarantee non-identifiying patients, which would explain the higher amount of patients (both alive and deceased) in the last age group.\n",
    "\n",
    "Let's take a look at the ICD codes as well"
   ]
  },
  {
   "cell_type": "code",
   "execution_count": null,
   "metadata": {},
   "outputs": [],
   "source": [
    "fig = px.histogram(\n",
    "    aki_patients,\n",
    "    x=\"anchor_age\",\n",
    "    barmode=\"group\",\n",
    "    marginal=\"box\",\n",
    "    color=\"icd_code\",\n",
    "    nbins=10,\n",
    "    text_auto=True,\n",
    "    width=width,\n",
    "    height=height,\n",
    "    title=\"Histogram of ARF patients by age and specific ICD-9 code\",\n",
    ")\n",
    "if plot_fig:\n",
    "    fig.show()\n",
    "fig.write_image(f\"{img_path}/anchor_age-icd_code.png\")"
   ]
  },
  {
   "cell_type": "code",
   "execution_count": null,
   "metadata": {},
   "outputs": [],
   "source": [
    "fig = px.histogram(\n",
    "    aki_patients,\n",
    "    x=\"icu_stay_days\",\n",
    "    barmode=\"group\",\n",
    "    marginal=\"box\",\n",
    "    color=\"icd_code\",\n",
    "    nbins=50,\n",
    "    text_auto=True,\n",
    "    width=width,\n",
    "    height=height,\n",
    "    title=\"Histogram of ARF patients by ICU stay (in days) and specific ICD-9 code\",\n",
    ")\n",
    "if plot_fig:\n",
    "    fig.show()\n",
    "fig.write_image(f\"{img_path}/icu_stay_days-icd_code.png\")"
   ]
  }
 ],
 "metadata": {
  "kernelspec": {
   "display_name": "ml_model",
   "language": "python",
   "name": "python3"
  },
  "language_info": {
   "codemirror_mode": {
    "name": "ipython",
    "version": 3
   },
   "file_extension": ".py",
   "mimetype": "text/x-python",
   "name": "python",
   "nbconvert_exporter": "python",
   "pygments_lexer": "ipython3",
   "version": "3.11.9"
  }
 },
 "nbformat": 4,
 "nbformat_minor": 2
}
