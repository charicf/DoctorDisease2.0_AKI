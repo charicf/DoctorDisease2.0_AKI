{
 "cells": [
  {
   "cell_type": "code",
   "execution_count": null,
   "metadata": {},
   "outputs": [],
   "source": [
    "import os\n",
    "import sys\n",
    "from pathlib import Path\n",
    "\n",
    "import pandas as pd\n",
    "import plotly.express as px\n",
    "\n",
    "sys.path.insert(0, str(Path(\"\").resolve().parents[1]))\n",
    "from utils.db_manager import MimicDBManager"
   ]
  },
  {
   "cell_type": "code",
   "execution_count": null,
   "metadata": {},
   "outputs": [],
   "source": [
    "db_manager = MimicDBManager(port=5432)\n",
    "db_manager.retrieve_table_names()"
   ]
  },
  {
   "cell_type": "code",
   "execution_count": null,
   "metadata": {},
   "outputs": [],
   "source": [
    "[db_manager.count_rows(table_name=table) for table in db_manager.retrieve_table_names()[:10]]"
   ]
  },
  {
   "cell_type": "code",
   "execution_count": null,
   "metadata": {},
   "outputs": [],
   "source": [
    "table_name = db_manager.retrieve_table_names()[0]\n",
    "db_manager.retrieve_id(table_name, id=18207287, id_column=\"subject_id\")"
   ]
  },
  {
   "cell_type": "code",
   "execution_count": null,
   "metadata": {},
   "outputs": [],
   "source": [
    "pd.DataFrame.from_dict(db_manager.retrieve_column_types(table_name), orient=\"index\", columns=[\"data_type\"]).reset_index(\n",
    "    names=\"column\"\n",
    ")"
   ]
  },
  {
   "cell_type": "code",
   "execution_count": null,
   "metadata": {},
   "outputs": [],
   "source": [
    "pd.DataFrame.from_dict(\n",
    "    {table: db_manager.retrieve_column_types(table) for table in db_manager.retrieve_table_names()}, orient=\"index\"\n",
    ").fillna(\"-\")"
   ]
  },
  {
   "cell_type": "code",
   "execution_count": null,
   "metadata": {},
   "outputs": [],
   "source": [
    "data = db_manager.retrieve_all(\"mimiciv_hosp.diagnoses_icd\")\n",
    "data[\"icd_code\"] = data[\"icd_code\"].str.strip()\n",
    "aki = data[data.icd_code == \"5848\"]\n",
    "aki"
   ]
  },
  {
   "cell_type": "code",
   "execution_count": null,
   "metadata": {},
   "outputs": [],
   "source": [
    "patients = db_manager.retrieve_all(\"mimiciv_hosp.patients\")\n",
    "aki_patients = aki.merge(patients, on=\"subject_id\")\n",
    "aki_patients"
   ]
  },
  {
   "cell_type": "code",
   "execution_count": null,
   "metadata": {},
   "outputs": [],
   "source": [
    "fig = px.histogram(aki_patients, x=\"anchor_age\", color=\"gender\", barmode=\"overlay\", marginal=\"box\", text_auto=True)\n",
    "fig.show()"
   ]
  }
 ],
 "metadata": {
  "kernelspec": {
   "display_name": "ml_model",
   "language": "python",
   "name": "python3"
  },
  "language_info": {
   "codemirror_mode": {
    "name": "ipython",
    "version": 3
   },
   "file_extension": ".py",
   "mimetype": "text/x-python",
   "name": "python",
   "nbconvert_exporter": "python",
   "pygments_lexer": "ipython3",
   "version": "3.1.undefined"
  }
 },
 "nbformat": 4,
 "nbformat_minor": 2
}
