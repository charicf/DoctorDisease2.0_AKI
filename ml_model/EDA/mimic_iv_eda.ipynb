{
 "cells": [
  {
   "cell_type": "code",
   "execution_count": 1,
   "metadata": {},
   "outputs": [
    {
     "name": "stderr",
     "output_type": "stream",
     "text": [
      "[2024-05-05 04:25:21,209 - logger.py:25 - get_logger() - WARNING Logger not saving to file\n"
     ]
    }
   ],
   "source": [
    "import os\n",
    "import sys\n",
    "from pathlib import Path\n",
    "\n",
    "import pandas as pd\n",
    "\n",
    "sys.path.insert(0, str(Path(\"\").resolve().parents[1]))\n",
    "from utils.db_manager import MimicDBManager"
   ]
  },
  {
   "cell_type": "code",
   "execution_count": 2,
   "metadata": {},
   "outputs": [
    {
     "name": "stderr",
     "output_type": "stream",
     "text": [
      "[2024-05-05 04:25:21,277 - db_manager.py:31 - generate_connection() - INFO Creating connection to PostgreSQL\n"
     ]
    },
    {
     "data": {
      "text/plain": [
       "['mimiciv_hosp.diagnoses_icd',\n",
       " 'mimiciv_hosp.labevents',\n",
       " 'mimiciv_hosp.d_icd_diagnoses',\n",
       " 'mimiciv_hosp.d_icd_procedures',\n",
       " 'mimiciv_hosp.emar',\n",
       " 'mimiciv_hosp.hcpcsevents',\n",
       " 'mimiciv_hosp.d_labitems',\n",
       " 'mimiciv_hosp.pharmacy',\n",
       " 'mimiciv_hosp.omr',\n",
       " 'mimiciv_hosp.poe_detail',\n",
       " 'mimiciv_hosp.poe',\n",
       " 'mimiciv_hosp.procedures_icd',\n",
       " 'mimiciv_hosp.provider',\n",
       " 'mimiciv_hosp.drgcodes',\n",
       " 'mimiciv_hosp.emar_detail',\n",
       " 'mimiciv_hosp.d_hcpcs',\n",
       " 'mimiciv_hosp.microbiologyevents',\n",
       " 'mimiciv_hosp.prescriptions',\n",
       " 'mimiciv_hosp.services',\n",
       " 'mimiciv_hosp.transfers',\n",
       " 'mimiciv_icu.caregiver',\n",
       " 'mimiciv_icu.inputevents',\n",
       " 'mimiciv_icu.ingredientevents',\n",
       " 'mimiciv_icu.chartevents',\n",
       " 'mimiciv_icu.icustays',\n",
       " 'mimiciv_icu.d_items',\n",
       " 'mimiciv_icu.datetimeevents',\n",
       " 'mimiciv_icu.outputevents',\n",
       " 'mimiciv_icu.procedureevents',\n",
       " 'mimiciv_hosp.patients',\n",
       " 'mimiciv_hosp.admissions']"
      ]
     },
     "execution_count": 2,
     "metadata": {},
     "output_type": "execute_result"
    }
   ],
   "source": [
    "db_manager = MimicDBManager(port=5432)\n",
    "db_manager.retrieve_table_names()"
   ]
  },
  {
   "cell_type": "code",
   "execution_count": 3,
   "metadata": {},
   "outputs": [
    {
     "data": {
      "text/plain": [
       "[4756326,\n",
       " 118171367,\n",
       " 109775,\n",
       " 85257,\n",
       " 26850359,\n",
       " 150771,\n",
       " 1622,\n",
       " 13584514,\n",
       " 6439169,\n",
       " 3879418]"
      ]
     },
     "execution_count": 3,
     "metadata": {},
     "output_type": "execute_result"
    }
   ],
   "source": [
    "[db_manager.count_rows(table_name=table) for table in db_manager.retrieve_table_names()[:10]]"
   ]
  },
  {
   "cell_type": "code",
   "execution_count": 4,
   "metadata": {},
   "outputs": [
    {
     "name": "stderr",
     "output_type": "stream",
     "text": [
      "/app/utils/db_manager.py:88: UserWarning: pandas only supports SQLAlchemy connectable (engine/connection) or database string URI or sqlite3 DBAPI2 connection. Other DBAPI2 objects are not tested. Please consider using SQLAlchemy.\n",
      "  df = pd.read_sql_query(sql_query, self.generate_connection())\n"
     ]
    },
    {
     "data": {
      "text/html": [
       "<div>\n",
       "<style scoped>\n",
       "    .dataframe tbody tr th:only-of-type {\n",
       "        vertical-align: middle;\n",
       "    }\n",
       "\n",
       "    .dataframe tbody tr th {\n",
       "        vertical-align: top;\n",
       "    }\n",
       "\n",
       "    .dataframe thead th {\n",
       "        text-align: right;\n",
       "    }\n",
       "</style>\n",
       "<table border=\"1\" class=\"dataframe\">\n",
       "  <thead>\n",
       "    <tr style=\"text-align: right;\">\n",
       "      <th></th>\n",
       "      <th>hadm_id</th>\n",
       "      <th>seq_num</th>\n",
       "      <th>icd_code</th>\n",
       "      <th>icd_version</th>\n",
       "    </tr>\n",
       "    <tr>\n",
       "      <th>subject_id</th>\n",
       "      <th></th>\n",
       "      <th></th>\n",
       "      <th></th>\n",
       "      <th></th>\n",
       "    </tr>\n",
       "  </thead>\n",
       "  <tbody>\n",
       "    <tr>\n",
       "      <th>18207287</th>\n",
       "      <td>24201343</td>\n",
       "      <td>4</td>\n",
       "      <td>49390</td>\n",
       "      <td>9</td>\n",
       "    </tr>\n",
       "    <tr>\n",
       "      <th>18207287</th>\n",
       "      <td>24201343</td>\n",
       "      <td>5</td>\n",
       "      <td>2449</td>\n",
       "      <td>9</td>\n",
       "    </tr>\n",
       "    <tr>\n",
       "      <th>18207287</th>\n",
       "      <td>24201343</td>\n",
       "      <td>6</td>\n",
       "      <td>V4586</td>\n",
       "      <td>9</td>\n",
       "    </tr>\n",
       "    <tr>\n",
       "      <th>18207287</th>\n",
       "      <td>24245051</td>\n",
       "      <td>1</td>\n",
       "      <td>78901</td>\n",
       "      <td>9</td>\n",
       "    </tr>\n",
       "    <tr>\n",
       "      <th>18207287</th>\n",
       "      <td>24245051</td>\n",
       "      <td>2</td>\n",
       "      <td>5722</td>\n",
       "      <td>9</td>\n",
       "    </tr>\n",
       "    <tr>\n",
       "      <th>...</th>\n",
       "      <td>...</td>\n",
       "      <td>...</td>\n",
       "      <td>...</td>\n",
       "      <td>...</td>\n",
       "    </tr>\n",
       "    <tr>\n",
       "      <th>18207287</th>\n",
       "      <td>21190469</td>\n",
       "      <td>14</td>\n",
       "      <td>49390</td>\n",
       "      <td>9</td>\n",
       "    </tr>\n",
       "    <tr>\n",
       "      <th>18207287</th>\n",
       "      <td>21190469</td>\n",
       "      <td>15</td>\n",
       "      <td>311</td>\n",
       "      <td>9</td>\n",
       "    </tr>\n",
       "    <tr>\n",
       "      <th>18207287</th>\n",
       "      <td>21190469</td>\n",
       "      <td>16</td>\n",
       "      <td>V4586</td>\n",
       "      <td>9</td>\n",
       "    </tr>\n",
       "    <tr>\n",
       "      <th>18207287</th>\n",
       "      <td>21340332</td>\n",
       "      <td>1</td>\n",
       "      <td>99669</td>\n",
       "      <td>9</td>\n",
       "    </tr>\n",
       "    <tr>\n",
       "      <th>18207287</th>\n",
       "      <td>21340332</td>\n",
       "      <td>2</td>\n",
       "      <td>2639</td>\n",
       "      <td>9</td>\n",
       "    </tr>\n",
       "  </tbody>\n",
       "</table>\n",
       "<p>704 rows × 4 columns</p>\n",
       "</div>"
      ],
      "text/plain": [
       "             hadm_id  seq_num icd_code  icd_version\n",
       "subject_id                                         \n",
       "18207287    24201343        4  49390              9\n",
       "18207287    24201343        5  2449               9\n",
       "18207287    24201343        6  V4586              9\n",
       "18207287    24245051        1  78901              9\n",
       "18207287    24245051        2  5722               9\n",
       "...              ...      ...      ...          ...\n",
       "18207287    21190469       14  49390              9\n",
       "18207287    21190469       15  311                9\n",
       "18207287    21190469       16  V4586              9\n",
       "18207287    21340332        1  99669              9\n",
       "18207287    21340332        2  2639               9\n",
       "\n",
       "[704 rows x 4 columns]"
      ]
     },
     "execution_count": 4,
     "metadata": {},
     "output_type": "execute_result"
    }
   ],
   "source": [
    "table_name = db_manager.retrieve_table_names()[0]\n",
    "db_manager.retrieve_id(table_name, id=18207287, id_column=\"subject_id\")"
   ]
  }
 ],
 "metadata": {
  "kernelspec": {
   "display_name": "ml_model",
   "language": "python",
   "name": "python3"
  },
  "language_info": {
   "codemirror_mode": {
    "name": "ipython",
    "version": 3
   },
   "file_extension": ".py",
   "mimetype": "text/x-python",
   "name": "python",
   "nbconvert_exporter": "python",
   "pygments_lexer": "ipython3",
   "version": "3.11.6"
  }
 },
 "nbformat": 4,
 "nbformat_minor": 2
}
