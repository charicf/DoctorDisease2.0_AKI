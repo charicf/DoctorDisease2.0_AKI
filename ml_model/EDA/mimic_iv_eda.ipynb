{
 "cells": [
  {
   "cell_type": "code",
   "execution_count": null,
   "metadata": {},
   "outputs": [],
   "source": [
    "import os\n",
    "import sys\n",
    "from pathlib import Path\n",
    "\n",
    "import pandas as pd\n",
    "import plotly.express as px\n",
    "\n",
    "sys.path.insert(0, str(Path(\"\").resolve().parents[1]))\n",
    "from utils.db_manager import MimicDBManager"
   ]
  },
  {
   "cell_type": "markdown",
   "metadata": {},
   "source": [
    "# Configuration"
   ]
  },
  {
   "cell_type": "code",
   "execution_count": null,
   "metadata": {},
   "outputs": [],
   "source": [
    "width = 1200\n",
    "height = 600\n",
    "img_path = \"/app/ml_model/EDA/images\"\n",
    "Path(img_path).mkdir(parents=True, exist_ok=True)\n",
    "plot_fig = False\n",
    "pd.set_option(\"display.max_rows\", 100)"
   ]
  },
  {
   "cell_type": "code",
   "execution_count": null,
   "metadata": {},
   "outputs": [],
   "source": [
    "db_manager = MimicDBManager(port=5432)"
   ]
  },
  {
   "cell_type": "markdown",
   "metadata": {},
   "source": [
    "# Quick Sanity check\n",
    "Let's do a quick sanity check to make sure that the DB is being correctly accessed and works as expected"
   ]
  },
  {
   "cell_type": "code",
   "execution_count": null,
   "metadata": {},
   "outputs": [],
   "source": [
    "db_manager.retrieve_table_names()"
   ]
  },
  {
   "cell_type": "code",
   "execution_count": null,
   "metadata": {},
   "outputs": [],
   "source": [
    "[db_manager.count_rows(table_name=table) for table in db_manager.retrieve_table_names()[:10]]"
   ]
  },
  {
   "cell_type": "code",
   "execution_count": null,
   "metadata": {},
   "outputs": [],
   "source": [
    "table_name = db_manager.retrieve_table_names()[0]\n",
    "db_manager.retrieve_id(table_name, id=18207287, id_column=\"subject_id\")"
   ]
  },
  {
   "cell_type": "code",
   "execution_count": null,
   "metadata": {},
   "outputs": [],
   "source": [
    "pd.DataFrame.from_dict(db_manager.retrieve_column_types(table_name), orient=\"index\", columns=[\"data_type\"]).reset_index(\n",
    "    names=\"column\"\n",
    ")"
   ]
  },
  {
   "cell_type": "markdown",
   "metadata": {},
   "source": [
    "# EDA"
   ]
  },
  {
   "cell_type": "code",
   "execution_count": null,
   "metadata": {},
   "outputs": [],
   "source": [
    "tables = (\n",
    "    pd.DataFrame.from_dict(\n",
    "        {table: db_manager.retrieve_column_types(table) for table in db_manager.retrieve_table_names()}, orient=\"index\"\n",
    "    )\n",
    "    .fillna(\"-\")\n",
    "    .sort_index()\n",
    "    .reset_index(names=\"full_table_name\")\n",
    ")\n",
    "tables[[\"parent_table\", \"table_name\"]] = tables.full_table_name.str.split(\".\", expand=True)"
   ]
  },
  {
   "cell_type": "markdown",
   "metadata": {},
   "source": [
    "## Table Descriptions"
   ]
  },
  {
   "cell_type": "code",
   "execution_count": null,
   "metadata": {},
   "outputs": [],
   "source": [
    "tables[tables.parent_table == \"mimiciv_hosp\"]"
   ]
  },
  {
   "cell_type": "code",
   "execution_count": null,
   "metadata": {},
   "outputs": [],
   "source": [
    "tables[tables.parent_table == \"mimiciv_icu\"]"
   ]
  },
  {
   "cell_type": "code",
   "execution_count": null,
   "metadata": {},
   "outputs": [],
   "source": [
    "tables[tables.parent_table == \"mimiciv_derived\"]"
   ]
  },
  {
   "cell_type": "markdown",
   "metadata": {},
   "source": [
    "There are 63 tables created through the \"concepts\" database building process."
   ]
  },
  {
   "cell_type": "markdown",
   "metadata": {},
   "source": [
    "## Acute Renal Failure (ARF) / Acute Kidney Injury (AKI) EDA"
   ]
  },
  {
   "cell_type": "markdown",
   "metadata": {},
   "source": [
    "Let's look now for patients with Acute Renal Failure, which should ahve an ICD-9 diagnostic code of 5848.\n",
    "\n",
    "Note: ICD-9 Diagnostic codes can be found in: https://www2.gov.bc.ca/assets/gov/health/practitioner-pro/medical-services-plan/diag-codes_genitourinary.pdf"
   ]
  },
  {
   "cell_type": "code",
   "execution_count": null,
   "metadata": {},
   "outputs": [],
   "source": [
    "data = db_manager.retrieve_all(\"mimiciv_hosp.diagnoses_icd\")\n",
    "data[\"icd_code\"] = data[\"icd_code\"].str.strip()\n",
    "arf = data[data.icd_code == \"5848\"]\n",
    "arf"
   ]
  },
  {
   "cell_type": "code",
   "execution_count": null,
   "metadata": {},
   "outputs": [],
   "source": [
    "aki_patients = arf.merge(db_manager.retrieve_all(\"mimiciv_hosp.patients\"), on=\"subject_id\")\n",
    "aki_patients"
   ]
  },
  {
   "cell_type": "markdown",
   "metadata": {},
   "source": [
    "### Demographics"
   ]
  },
  {
   "cell_type": "code",
   "execution_count": null,
   "metadata": {},
   "outputs": [],
   "source": [
    "fig = px.histogram(\n",
    "    aki_patients,\n",
    "    x=\"anchor_age\",\n",
    "    color=\"gender\",\n",
    "    barmode=\"overlay\",\n",
    "    marginal=\"box\",\n",
    "    text_auto=True,\n",
    "    width=width,\n",
    "    height=height,\n",
    "    title=\"Distribution of Patients with ICD-9 code 5848 in MIMIC-IV\",\n",
    ")\n",
    "if plot_fig:\n",
    "    fig.show()\n",
    "fig.write_image(f\"{img_path}/1.ICD-9_code-5848_distribution.png\")"
   ]
  },
  {
   "cell_type": "markdown",
   "metadata": {},
   "source": [
    "Not too many patients to work with. How about patients with *any* type of acute renal failure"
   ]
  },
  {
   "cell_type": "code",
   "execution_count": null,
   "metadata": {},
   "outputs": [],
   "source": [
    "data = db_manager.retrieve_all(\"mimiciv_hosp.diagnoses_icd\")\n",
    "data[\"icd_code\"] = data[\"icd_code\"].str.strip()\n",
    "arf = data[data.icd_code.str.startswith(\"584\")].drop_duplicates(subset=\"subject_id\")\n",
    "arf"
   ]
  },
  {
   "cell_type": "code",
   "execution_count": null,
   "metadata": {},
   "outputs": [],
   "source": [
    "aki_patients = (\n",
    "    arf.merge(db_manager.retrieve_all(\"mimiciv_hosp.patients\"), on=\"subject_id\")\n",
    "    .merge(db_manager.retrieve_all(\"mimiciv_hosp.admissions\"), on=[\"subject_id\", \"hadm_id\"])\n",
    "    .merge(\n",
    "        db_manager.retrieve_all(\"mimiciv_icu.icustays\")\n",
    "        .sort_values(\"outtime\")\n",
    "        .drop_duplicates(subset=[\"subject_id\", \"hadm_id\"]),\n",
    "        on=[\"subject_id\", \"hadm_id\"],\n",
    "        how=\"left\",\n",
    "    )\n",
    ")\n",
    "aki_patients[\"deceased\"] = aki_patients[\"dod\"].apply(lambda x: True if str(x).strip() != \"None\" else False)\n",
    "aki_patients[\"icu_stay_days\"] = (aki_patients[\"outtime\"] - aki_patients[\"intime\"]).dt.total_seconds() / 3600 / 24\n",
    "aki_patients[\"icu_stay_days\"] = aki_patients[\"icu_stay_days\"].fillna(0)\n",
    "aki_patients"
   ]
  },
  {
   "cell_type": "code",
   "execution_count": null,
   "metadata": {},
   "outputs": [],
   "source": [
    "aki_patients.columns"
   ]
  },
  {
   "cell_type": "code",
   "execution_count": null,
   "metadata": {},
   "outputs": [],
   "source": [
    "print(\n",
    "    f\"A total of {len(aki_patients[aki_patients.deceased==True])} patients suffering ARF/AKI died druing their stay in the hospital\"\n",
    ")\n",
    "fig = px.histogram(\n",
    "    aki_patients,\n",
    "    x=\"anchor_age\",\n",
    "    facet_row=\"gender\",\n",
    "    barmode=\"group\",\n",
    "    marginal=\"box\",\n",
    "    color=\"deceased\",\n",
    "    nbins=30,\n",
    "    text_auto=True,\n",
    "    width=width,\n",
    "    height=height,\n",
    "    title=\"Histogram of ARF patients by age, deceased status, and gender\",\n",
    ")\n",
    "if plot_fig:\n",
    "    fig.show()\n",
    "fig.write_image(f\"{img_path}/2.1.anchor_age-deceased-gender.png\")"
   ]
  },
  {
   "cell_type": "code",
   "execution_count": null,
   "metadata": {},
   "outputs": [],
   "source": [
    "fig = px.histogram(\n",
    "    aki_patients,\n",
    "    x=\"anchor_age\",\n",
    "    # facet_row=\"race\",\n",
    "    barmode=\"group\",\n",
    "    color=\"race\",\n",
    "    nbins=20,\n",
    "    text_auto=True,\n",
    "    width=width,\n",
    "    height=height,\n",
    "    title=\"Histogram of ARF patients by age and race\",\n",
    ")\n",
    "if plot_fig:\n",
    "    fig.show()\n",
    "fig.write_image(f\"{img_path}/2.2.anchor_age-race.png\")"
   ]
  },
  {
   "cell_type": "markdown",
   "metadata": {},
   "source": [
    "The top 2 groups overshadow the rest, let's remove them so we can take a better look at the rest of the  groups"
   ]
  },
  {
   "cell_type": "code",
   "execution_count": null,
   "metadata": {},
   "outputs": [],
   "source": [
    "fig = px.histogram(\n",
    "    aki_patients[\n",
    "        ~aki_patients.race.isin(aki_patients.value_counts(subset=\"race\").reset_index().race.loc[:2].to_list())\n",
    "    ],\n",
    "    x=\"anchor_age\",\n",
    "    # facet_row=\"race\",\n",
    "    barmode=\"group\",\n",
    "    color=\"race\",\n",
    "    nbins=20,\n",
    "    text_auto=True,\n",
    "    width=width,\n",
    "    height=height,\n",
    "    title=\"Histogram of ARF patients by age and race excluding top 3\",\n",
    ")\n",
    "if plot_fig:\n",
    "    fig.show()\n",
    "fig.write_image(f\"{img_path}/2.3.anchor_age-race_no_top_3.png\")"
   ]
  },
  {
   "cell_type": "markdown",
   "metadata": {},
   "source": [
    "Now specifically let's look at hispanics"
   ]
  },
  {
   "cell_type": "code",
   "execution_count": null,
   "metadata": {},
   "outputs": [],
   "source": [
    "fig = px.histogram(\n",
    "    aki_patients[aki_patients.race.str.lower().str.contains(\"hispanic\")],\n",
    "    x=\"anchor_age\",\n",
    "    # facet_row=\"race\",\n",
    "    barmode=\"group\",\n",
    "    color=\"race\",\n",
    "    nbins=20,\n",
    "    text_auto=True,\n",
    "    width=width,\n",
    "    height=height,\n",
    "    title=\"Histogram of ARF patients by age and race for hispanics\",\n",
    ")\n",
    "if plot_fig:\n",
    "    fig.show()\n",
    "fig.write_image(f\"{img_path}/2.4.anchor_age-race_hispanic.png\")"
   ]
  },
  {
   "cell_type": "markdown",
   "metadata": {},
   "source": [
    "### By ICD codes"
   ]
  },
  {
   "cell_type": "markdown",
   "metadata": {},
   "source": [
    "91 is the hard limit for age on the DB, to guarantee non-identifiying patients, which would explain the higher amount of patients (both alive and deceased) in the last age group.\n",
    "\n",
    "Let's take a look at the ICD codes as well"
   ]
  },
  {
   "cell_type": "code",
   "execution_count": null,
   "metadata": {},
   "outputs": [],
   "source": [
    "fig = px.histogram(\n",
    "    aki_patients,\n",
    "    x=\"anchor_age\",\n",
    "    barmode=\"group\",\n",
    "    marginal=\"box\",\n",
    "    color=\"icd_code\",\n",
    "    nbins=10,\n",
    "    text_auto=True,\n",
    "    width=width,\n",
    "    height=height,\n",
    "    title=\"Histogram of ARF patients by age and specific ICD-9 code\",\n",
    ")\n",
    "if plot_fig:\n",
    "    fig.show()\n",
    "fig.write_image(f\"{img_path}/3.1.anchor_age-icd_code.png\")"
   ]
  },
  {
   "cell_type": "code",
   "execution_count": null,
   "metadata": {},
   "outputs": [],
   "source": [
    "print(f\"A total of {len(aki_patients[aki_patients.icu_stay_days>0])} patients entered the ICU\")\n",
    "fig = px.histogram(\n",
    "    aki_patients[aki_patients.icu_stay_days > 0],\n",
    "    x=\"icu_stay_days\",\n",
    "    barmode=\"group\",\n",
    "    marginal=\"box\",\n",
    "    color=\"icd_code\",\n",
    "    nbins=50,\n",
    "    text_auto=True,\n",
    "    width=width,\n",
    "    height=height,\n",
    "    title=\"Histogram of ARF patients by ICU stay (in days) and specific ICD-9 code\",\n",
    ")\n",
    "if plot_fig:\n",
    "    fig.show()\n",
    "fig.write_image(f\"{img_path}/3.2.icu_stay_days-icd_code.png\")"
   ]
  },
  {
   "cell_type": "markdown",
   "metadata": {},
   "source": [
    "## Creatinine measurements\n",
    "Now let's take a look at some visualizations using the creatinine information in the derived tables"
   ]
  },
  {
   "cell_type": "code",
   "execution_count": null,
   "metadata": {},
   "outputs": [],
   "source": [
    "creatinine = db_manager.retrieve_all(\"mimiciv_derived.kdigo_creatinine\").fillna(0)\n",
    "creatinine"
   ]
  },
  {
   "cell_type": "markdown",
   "metadata": {},
   "source": [
    "### Creatinine low last 48 hours"
   ]
  },
  {
   "cell_type": "code",
   "execution_count": null,
   "metadata": {},
   "outputs": [],
   "source": [
    "filtering = \"creat_low_past_48hr\"\n",
    "\n",
    "fig = px.histogram(\n",
    "    aki_patients.merge(\n",
    "        creatinine.sort_values(filtering, ascending=False).drop_duplicates(subset=[\"hadm_id\"]), on=\"hadm_id\"\n",
    "    ),\n",
    "    x=filtering,\n",
    "    # facet_row=\"race\",\n",
    "    # barmode=\"group\",\n",
    "    marginal=\"box\",\n",
    "    color=\"icd_code\",\n",
    "    # nbins=20,\n",
    "    text_auto=True,\n",
    "    width=width,\n",
    "    height=height,\n",
    "    title=f\"Histogram of creatinine values based on {filtering}\",\n",
    ")\n",
    "\n",
    "if plot_fig:\n",
    "    fig.show()\n",
    "fig.write_image(f\"{img_path}/4.1.max_{filtering}.png\")"
   ]
  },
  {
   "cell_type": "code",
   "execution_count": null,
   "metadata": {},
   "outputs": [],
   "source": [
    "filtering = \"creat_low_past_48hr\"\n",
    "data = aki_patients.merge(\n",
    "    creatinine.sort_values(filtering, ascending=False).drop_duplicates(subset=[\"hadm_id\"]), on=\"hadm_id\"\n",
    ")\n",
    "fig = px.histogram(\n",
    "    data[data.icd_code.isin(data.value_counts(subset=\"icd_code\").reset_index().icd_code.to_list()[2:])],\n",
    "    x=filtering,\n",
    "    # facet_row=\"race\",\n",
    "    # barmode=\"group\",\n",
    "    marginal=\"box\",\n",
    "    color=\"icd_code\",\n",
    "    # nbins=20,\n",
    "    text_auto=True,\n",
    "    width=width,\n",
    "    height=height,\n",
    "    title=f\"Histogram of creatinine values based on {filtering}, bottom 2 ICD-9 codes\",\n",
    ")\n",
    "\n",
    "if plot_fig:\n",
    "    fig.show()\n",
    "fig.write_image(f\"{img_path}/4.2.max_{filtering}_bottom_2.png\")"
   ]
  },
  {
   "cell_type": "markdown",
   "metadata": {},
   "source": [
    "### Creatinine low last 48 days"
   ]
  },
  {
   "cell_type": "code",
   "execution_count": null,
   "metadata": {},
   "outputs": [],
   "source": [
    "filtering = \"creat_low_past_7day\"\n",
    "\n",
    "fig = px.histogram(\n",
    "    aki_patients.merge(\n",
    "        creatinine.sort_values(filtering, ascending=False).drop_duplicates(subset=[\"hadm_id\"]), on=\"hadm_id\"\n",
    "    ),\n",
    "    x=filtering,\n",
    "    # facet_row=\"race\",\n",
    "    # barmode=\"group\",\n",
    "    marginal=\"box\",\n",
    "    color=\"icd_code\",\n",
    "    # nbins=20,\n",
    "    text_auto=True,\n",
    "    width=width,\n",
    "    height=height,\n",
    "    title=f\"Histogram of creatinine values based on {filtering}\",\n",
    ")\n",
    "\n",
    "if plot_fig:\n",
    "    fig.show()\n",
    "fig.write_image(f\"{img_path}/4.3.max_{filtering}.png\")"
   ]
  },
  {
   "cell_type": "code",
   "execution_count": null,
   "metadata": {},
   "outputs": [],
   "source": [
    "filtering = \"creat_low_past_7day\"\n",
    "data = aki_patients.merge(\n",
    "    creatinine.sort_values(filtering, ascending=False).drop_duplicates(subset=[\"hadm_id\"]), on=\"hadm_id\"\n",
    ")\n",
    "fig = px.histogram(\n",
    "    data[data.icd_code.isin(data.value_counts(subset=\"icd_code\").reset_index().icd_code.to_list()[2:])],\n",
    "    x=filtering,\n",
    "    # facet_row=\"race\",\n",
    "    # barmode=\"group\",\n",
    "    marginal=\"box\",\n",
    "    color=\"icd_code\",\n",
    "    # nbins=20,\n",
    "    text_auto=True,\n",
    "    width=width,\n",
    "    height=height,\n",
    "    title=f\"Histogram of creatinine values based on {filtering}, bottom 2 ICD-9 codes\",\n",
    ")\n",
    "\n",
    "if plot_fig:\n",
    "    fig.show()\n",
    "fig.write_image(f\"{img_path}/4.4.max_{filtering}_bottom_2.png\")"
   ]
  },
  {
   "cell_type": "markdown",
   "metadata": {},
   "source": [
    "### Raw creatinine value"
   ]
  },
  {
   "cell_type": "code",
   "execution_count": null,
   "metadata": {},
   "outputs": [],
   "source": [
    "filtering = \"creat\"\n",
    "\n",
    "fig = px.histogram(\n",
    "    aki_patients.merge(\n",
    "        creatinine.sort_values(filtering, ascending=False).drop_duplicates(subset=[\"hadm_id\"]), on=\"hadm_id\"\n",
    "    ),\n",
    "    x=filtering,\n",
    "    # facet_row=\"race\",\n",
    "    # barmode=\"group\",\n",
    "    marginal=\"box\",\n",
    "    color=\"icd_code\",\n",
    "    # nbins=20,\n",
    "    text_auto=True,\n",
    "    width=width,\n",
    "    height=height,\n",
    "    title=f\"Histogram of creatinine values based on {filtering}\",\n",
    ")\n",
    "\n",
    "if plot_fig:\n",
    "    fig.show()\n",
    "fig.write_image(f\"{img_path}/4.5.max_{filtering}.png\")"
   ]
  },
  {
   "cell_type": "code",
   "execution_count": null,
   "metadata": {},
   "outputs": [],
   "source": [
    "filtering = \"creat\"\n",
    "data = aki_patients.merge(\n",
    "    creatinine.sort_values(filtering, ascending=False).drop_duplicates(subset=[\"hadm_id\"]), on=\"hadm_id\"\n",
    ")\n",
    "fig = px.histogram(\n",
    "    data[data.icd_code.isin(data.value_counts(subset=\"icd_code\").reset_index().icd_code.to_list()[2:])],\n",
    "    x=filtering,\n",
    "    # facet_row=\"race\",\n",
    "    # barmode=\"group\",\n",
    "    marginal=\"box\",\n",
    "    color=\"icd_code\",\n",
    "    # nbins=20,\n",
    "    text_auto=True,\n",
    "    width=width,\n",
    "    height=height,\n",
    "    title=f\"Histogram of creatinine values based on {filtering}, bottom 2 ICD-9 codes\",\n",
    ")\n",
    "\n",
    "if plot_fig:\n",
    "    fig.show()\n",
    "fig.write_image(f\"{img_path}/4.6.max_{filtering}_bottom_2.png\")"
   ]
  },
  {
   "cell_type": "markdown",
   "metadata": {},
   "source": [
    "## KDIGO stages"
   ]
  },
  {
   "cell_type": "code",
   "execution_count": null,
   "metadata": {},
   "outputs": [],
   "source": [
    "kdigo_data = db_manager.retrieve_all(\"mimiciv_derived.kdigo_stages\")\n",
    "kdigo_data"
   ]
  },
  {
   "cell_type": "code",
   "execution_count": null,
   "metadata": {},
   "outputs": [],
   "source": [
    "data = aki_patients.merge(\n",
    "    kdigo_data.sort_values(\"aki_stage_smoothed\", ascending=False).drop_duplicates(subset=\"subject_id\"),\n",
    "    on=[\"subject_id\", \"hadm_id\"],\n",
    "    how=\"left\",\n",
    ").fillna(0)\n",
    "data[\"aki_stage_smoothed\"] = data[\"aki_stage_smoothed\"].astype(int)\n",
    "\n",
    "fig = px.histogram(\n",
    "    data.sort_values(\"aki_stage_smoothed\"),\n",
    "    x=\"aki_stage_smoothed\",\n",
    "    # facet_row=\"race\",\n",
    "    # barmode=\"group\",\n",
    "    marginal=\"box\",\n",
    "    color=\"icd_code\",\n",
    "    # nbins=4,\n",
    "    text_auto=True,\n",
    "    width=width,\n",
    "    height=height,\n",
    "    title=f\"Histogram of Maximum AKI Stage\",\n",
    ")\n",
    "fig.update_xaxes(type=\"category\")\n",
    "if plot_fig:\n",
    "    fig.show()\n",
    "fig.write_image(f\"{img_path}/5.1.max_aki_stage.png\")"
   ]
  },
  {
   "cell_type": "code",
   "execution_count": null,
   "metadata": {},
   "outputs": [],
   "source": [
    "fig = px.histogram(\n",
    "    data[data.icd_code.isin(data.value_counts(subset=\"icd_code\").reset_index().icd_code.to_list()[2:])].sort_values(\n",
    "        \"aki_stage_smoothed\"\n",
    "    ),\n",
    "    x=\"aki_stage_smoothed\",\n",
    "    # facet_row=\"race\",\n",
    "    # barmode=\"group\",\n",
    "    marginal=\"box\",\n",
    "    color=\"icd_code\",\n",
    "    # nbins=4,\n",
    "    text_auto=True,\n",
    "    width=width,\n",
    "    height=height,\n",
    "    title=f\"Histogram of Maximum AKI Stage, bottom 2 ICD-9 codes\",\n",
    ")\n",
    "fig.update_xaxes(type=\"category\")\n",
    "if plot_fig:\n",
    "    fig.show()\n",
    "fig.write_image(f\"{img_path}/5.2.max_aki_stage_bottom_2.png\")"
   ]
  },
  {
   "cell_type": "markdown",
   "metadata": {},
   "source": [
    "## Medication Information\n",
    "\n",
    "The main helpers to reduce AKI development are epinephrine, norepinephrine, dopamine and vassopresin, let's take a look at their values for our populations to see if they were used during the patient's stay."
   ]
  },
  {
   "cell_type": "code",
   "execution_count": null,
   "metadata": {},
   "outputs": [],
   "source": [
    "meds = {}"
   ]
  },
  {
   "cell_type": "markdown",
   "metadata": {},
   "source": [
    "### Norepinephrine"
   ]
  },
  {
   "cell_type": "code",
   "execution_count": null,
   "metadata": {},
   "outputs": [],
   "source": [
    "med = \"norepinephrine\"\n",
    "meds[med] = (\n",
    "    db_manager.retrieve_all(f\"mimiciv_derived.{med}\")\n",
    "    .groupby(\"stay_id\")\n",
    "    .aggregate({\"vaso_rate\": sum, \"vaso_amount\": sum})\n",
    "    .reset_index()\n",
    ")\n",
    "meds[med][\"medication\"] = med\n",
    "meds[med]"
   ]
  },
  {
   "cell_type": "code",
   "execution_count": null,
   "metadata": {},
   "outputs": [],
   "source": [
    "data = aki_patients.merge(\n",
    "    meds[med].sort_values(\"vaso_amount\", ascending=False).drop_duplicates(\"stay_id\"), on=\"stay_id\", how=\"left\"\n",
    ").fillna({\"vaso_amount\": 0, \"medication\": \"None\"})\n",
    "fig = px.histogram(\n",
    "    data[data.vaso_amount > 0],\n",
    "    x=\"vaso_amount\",\n",
    "    # facet_row=\"medication\",\n",
    "    # barmode=\"group\",\n",
    "    marginal=\"box\",\n",
    "    color=\"icd_code\",\n",
    "    # nbins=4,\n",
    "    text_auto=True,\n",
    "    width=width,\n",
    "    height=height,\n",
    "    title=f\"Histogram of Max {med} Amount per icd_code\",\n",
    ")\n",
    "\n",
    "if plot_fig:\n",
    "    fig.show()\n",
    "fig.write_image(f\"{img_path}/6.1.max_{med}_per_icd_code.png\")"
   ]
  },
  {
   "cell_type": "markdown",
   "metadata": {},
   "source": [
    "### Epinephrine"
   ]
  },
  {
   "cell_type": "code",
   "execution_count": null,
   "metadata": {},
   "outputs": [],
   "source": [
    "med = \"epinephrine\"\n",
    "meds[med] = (\n",
    "    db_manager.retrieve_all(f\"mimiciv_derived.{med}\")\n",
    "    .groupby(\"stay_id\")\n",
    "    .aggregate({\"vaso_rate\": sum, \"vaso_amount\": sum})\n",
    "    .reset_index()\n",
    ")\n",
    "meds[med][\"medication\"] = med\n",
    "meds[med]"
   ]
  },
  {
   "cell_type": "code",
   "execution_count": null,
   "metadata": {},
   "outputs": [],
   "source": [
    "data = aki_patients.merge(\n",
    "    meds[med].sort_values(\"vaso_amount\", ascending=False).drop_duplicates(\"stay_id\"), on=\"stay_id\", how=\"left\"\n",
    ").fillna({\"vaso_amount\": 0, \"medication\": \"None\"})\n",
    "fig = px.histogram(\n",
    "    data[data.vaso_amount > 0],\n",
    "    x=\"vaso_amount\",\n",
    "    # facet_row=\"medication\",\n",
    "    # barmode=\"group\",\n",
    "    marginal=\"box\",\n",
    "    color=\"icd_code\",\n",
    "    # nbins=4,\n",
    "    text_auto=True,\n",
    "    width=width,\n",
    "    height=height,\n",
    "    title=f\"Histogram of Max {med} Amount per icd_code\",\n",
    ")\n",
    "\n",
    "if plot_fig:\n",
    "    fig.show()\n",
    "fig.write_image(f\"{img_path}/6.2.max_{med}_per_icd_code.png\")"
   ]
  },
  {
   "cell_type": "markdown",
   "metadata": {},
   "source": [
    "### Dopamine"
   ]
  },
  {
   "cell_type": "code",
   "execution_count": null,
   "metadata": {},
   "outputs": [],
   "source": [
    "med = \"dopamine\"\n",
    "meds[med] = (\n",
    "    db_manager.retrieve_all(f\"mimiciv_derived.{med}\")\n",
    "    .groupby(\"stay_id\")\n",
    "    .aggregate({\"vaso_rate\": sum, \"vaso_amount\": sum})\n",
    "    .reset_index()\n",
    ")\n",
    "meds[med][\"medication\"] = med\n",
    "meds[med]"
   ]
  },
  {
   "cell_type": "code",
   "execution_count": null,
   "metadata": {},
   "outputs": [],
   "source": [
    "data = aki_patients.merge(\n",
    "    meds[med].sort_values(\"vaso_amount\", ascending=False).drop_duplicates(\"stay_id\"), on=\"stay_id\", how=\"left\"\n",
    ").fillna({\"vaso_amount\": 0, \"medication\": \"None\"})\n",
    "fig = px.histogram(\n",
    "    data[data.vaso_amount > 0],\n",
    "    x=\"vaso_amount\",\n",
    "    # facet_row=\"medication\",\n",
    "    # barmode=\"group\",\n",
    "    marginal=\"box\",\n",
    "    color=\"icd_code\",\n",
    "    # nbins=4,\n",
    "    text_auto=True,\n",
    "    width=width,\n",
    "    height=height,\n",
    "    title=f\"Histogram of Max {med} Amount per icd_code\",\n",
    ")\n",
    "\n",
    "if plot_fig:\n",
    "    fig.show()\n",
    "fig.write_image(f\"{img_path}/6.3.max_{med}_per_icd_code.png\")"
   ]
  },
  {
   "cell_type": "markdown",
   "metadata": {},
   "source": [
    "### Vasopressin"
   ]
  },
  {
   "cell_type": "code",
   "execution_count": null,
   "metadata": {},
   "outputs": [],
   "source": [
    "med = \"vasopressin\"\n",
    "meds[med] = (\n",
    "    db_manager.retrieve_all(f\"mimiciv_derived.{med}\")\n",
    "    .groupby(\"stay_id\")\n",
    "    .aggregate({\"vaso_rate\": sum, \"vaso_amount\": sum})\n",
    "    .reset_index()\n",
    ")\n",
    "meds[med][\"medication\"] = med\n",
    "meds[med]"
   ]
  },
  {
   "cell_type": "code",
   "execution_count": null,
   "metadata": {},
   "outputs": [],
   "source": [
    "data = aki_patients.merge(\n",
    "    meds[med].sort_values(\"vaso_amount\", ascending=False).drop_duplicates(\"stay_id\"), on=\"stay_id\", how=\"left\"\n",
    ").fillna({\"vaso_amount\": 0, \"medication\": \"None\"})\n",
    "fig = px.histogram(\n",
    "    data[data.vaso_amount > 0],\n",
    "    x=\"vaso_amount\",\n",
    "    # facet_row=\"medication\",\n",
    "    # barmode=\"group\",\n",
    "    marginal=\"box\",\n",
    "    color=\"icd_code\",\n",
    "    # nbins=4,\n",
    "    text_auto=True,\n",
    "    width=width,\n",
    "    height=height,\n",
    "    title=f\"Histogram of Max {med} Amount per icd_code\",\n",
    ")\n",
    "\n",
    "if plot_fig:\n",
    "    fig.show()\n",
    "fig.write_image(f\"{img_path}/6.4.max_{med}_per_icd_code.png\")"
   ]
  },
  {
   "cell_type": "code",
   "execution_count": null,
   "metadata": {},
   "outputs": [],
   "source": [
    "med_list = []\n",
    "for med in meds:\n",
    "    med_list.append(\n",
    "        aki_patients.merge(\n",
    "            meds[med].sort_values(\"vaso_amount\", ascending=False).drop_duplicates(\"stay_id\"), on=\"stay_id\", how=\"left\"\n",
    "        ).fillna({\"vaso_amount\": 0, \"medication\": \"None\"})\n",
    "    )\n",
    "meds_df = pd.concat(med_list).drop_duplicates(subset=[\"subject_id\", \"medication\"])\n",
    "meds_df"
   ]
  },
  {
   "cell_type": "code",
   "execution_count": null,
   "metadata": {},
   "outputs": [],
   "source": [
    "fig = px.histogram(\n",
    "    meds_df[meds_df.vaso_amount > 0],\n",
    "    x=\"vaso_amount\",\n",
    "    # pattern_shape=\"icd_code\",\n",
    "    # barmode=\"group\",\n",
    "    marginal=\"box\",\n",
    "    color=\"medication\",\n",
    "    # nbins=4,\n",
    "    text_auto=True,\n",
    "    width=width,\n",
    "    height=height,\n",
    "    title=f\"Histogram of Max Medication Amount per Medication type \",\n",
    ")\n",
    "# fig.update_xaxes(type='category')\n",
    "if plot_fig:\n",
    "    fig.show()\n",
    "fig.write_image(f\"{img_path}/6.5.max_medications_combined.png\")"
   ]
  }
 ],
 "metadata": {
  "kernelspec": {
   "display_name": "ml_model",
   "language": "python",
   "name": "python3"
  },
  "language_info": {
   "codemirror_mode": {
    "name": "ipython",
    "version": 3
   },
   "file_extension": ".py",
   "mimetype": "text/x-python",
   "name": "python",
   "nbconvert_exporter": "python",
   "pygments_lexer": "ipython3",
   "version": "3.11.9"
  }
 },
 "nbformat": 4,
 "nbformat_minor": 2
}
