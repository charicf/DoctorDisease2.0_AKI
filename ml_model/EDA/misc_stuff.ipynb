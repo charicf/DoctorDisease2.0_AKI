{
 "cells": [
  {
   "cell_type": "code",
   "execution_count": 1,
   "metadata": {},
   "outputs": [
    {
     "name": "stderr",
     "output_type": "stream",
     "text": [
      "[2024-06-13 04:15:37,270 - logger.py:25 - get_logger() - WARNING Logger not saving to file\n"
     ]
    }
   ],
   "source": [
    "import os\n",
    "import sys\n",
    "from pathlib import Path\n",
    "\n",
    "import pandas as pd\n",
    "import plotly.express as px\n",
    "\n",
    "sys.path.insert(0, str(Path(\"\").resolve().parents[1]))\n",
    "from utils.db_manager import MimicDBManager"
   ]
  },
  {
   "cell_type": "code",
   "execution_count": 2,
   "metadata": {},
   "outputs": [],
   "source": [
    "width = 1200\n",
    "height = 600\n",
    "img_path = \"/app/ml_model/EDA/images\"\n",
    "Path(img_path).mkdir(parents=True, exist_ok=True)\n",
    "plot_fig = False\n",
    "pd.set_option(\"display.max_rows\", 100)"
   ]
  },
  {
   "cell_type": "code",
   "execution_count": 3,
   "metadata": {},
   "outputs": [
    {
     "name": "stderr",
     "output_type": "stream",
     "text": [
      "[2024-06-13 04:15:37,299 - db_manager.py:51 - generate_connection() - INFO Creating connection to PostgreSQL\n"
     ]
    },
    {
     "data": {
      "text/plain": [
       "['mimiciv_hosp.diagnoses_icd',\n",
       " 'mimiciv_hosp.labevents',\n",
       " 'mimiciv_hosp.d_icd_diagnoses',\n",
       " 'mimiciv_hosp.d_icd_procedures',\n",
       " 'mimiciv_hosp.emar',\n",
       " 'mimiciv_hosp.hcpcsevents',\n",
       " 'mimiciv_hosp.d_labitems',\n",
       " 'mimiciv_hosp.pharmacy',\n",
       " 'mimiciv_hosp.omr',\n",
       " 'mimiciv_hosp.poe_detail',\n",
       " 'mimiciv_hosp.poe',\n",
       " 'mimiciv_hosp.procedures_icd',\n",
       " 'mimiciv_hosp.provider',\n",
       " 'mimiciv_hosp.drgcodes',\n",
       " 'mimiciv_hosp.emar_detail',\n",
       " 'mimiciv_hosp.d_hcpcs',\n",
       " 'mimiciv_hosp.microbiologyevents',\n",
       " 'mimiciv_hosp.prescriptions',\n",
       " 'mimiciv_hosp.services',\n",
       " 'mimiciv_hosp.transfers',\n",
       " 'mimiciv_icu.caregiver',\n",
       " 'mimiciv_icu.inputevents',\n",
       " 'mimiciv_icu.ingredientevents',\n",
       " 'mimiciv_icu.chartevents',\n",
       " 'mimiciv_icu.icustays',\n",
       " 'mimiciv_icu.d_items',\n",
       " 'mimiciv_icu.datetimeevents',\n",
       " 'mimiciv_icu.outputevents',\n",
       " 'mimiciv_icu.procedureevents',\n",
       " 'mimiciv_hosp.patients',\n",
       " 'mimiciv_hosp.admissions',\n",
       " 'mimiciv_derived.icustay_times',\n",
       " 'mimiciv_derived.icustay_hourly',\n",
       " 'mimiciv_derived.weight_durations',\n",
       " 'mimiciv_derived.urine_output',\n",
       " 'mimiciv_derived.kdigo_uo',\n",
       " 'mimiciv_derived.age',\n",
       " 'mimiciv_derived.icustay_detail',\n",
       " 'mimiciv_derived.bg',\n",
       " 'mimiciv_derived.blood_differential',\n",
       " 'mimiciv_derived.cardiac_marker',\n",
       " 'mimiciv_derived.chemistry',\n",
       " 'mimiciv_derived.coagulation',\n",
       " 'mimiciv_derived.complete_blood_count',\n",
       " 'mimiciv_derived.creatinine_baseline',\n",
       " 'mimiciv_derived.enzyme',\n",
       " 'mimiciv_derived.gcs',\n",
       " 'mimiciv_derived.height',\n",
       " 'mimiciv_derived.icp',\n",
       " 'mimiciv_derived.inflammation',\n",
       " 'mimiciv_derived.oxygen_delivery',\n",
       " 'mimiciv_derived.rhythm',\n",
       " 'mimiciv_derived.urine_output_rate',\n",
       " 'mimiciv_derived.ventilator_setting',\n",
       " 'mimiciv_derived.vitalsign',\n",
       " 'mimiciv_derived.charlson',\n",
       " 'mimiciv_derived.acei',\n",
       " 'mimiciv_derived.antibiotic',\n",
       " 'mimiciv_derived.dobutamine',\n",
       " 'mimiciv_derived.dopamine',\n",
       " 'mimiciv_derived.epinephrine',\n",
       " 'mimiciv_derived.milrinone',\n",
       " 'mimiciv_derived.neuroblock',\n",
       " 'mimiciv_derived.norepinephrine',\n",
       " 'mimiciv_derived.nsaid',\n",
       " 'mimiciv_derived.phenylephrine',\n",
       " 'mimiciv_derived.vasopressin',\n",
       " 'mimiciv_derived.crrt',\n",
       " 'mimiciv_derived.invasive_line',\n",
       " 'mimiciv_derived.rrt',\n",
       " 'mimiciv_derived.ventilation',\n",
       " 'mimiciv_derived.first_day_bg',\n",
       " 'mimiciv_derived.first_day_bg_art',\n",
       " 'mimiciv_derived.first_day_gcs',\n",
       " 'mimiciv_derived.first_day_height',\n",
       " 'mimiciv_derived.first_day_lab',\n",
       " 'mimiciv_derived.first_day_rrt',\n",
       " 'mimiciv_derived.first_day_urine_output',\n",
       " 'mimiciv_derived.first_day_vitalsign',\n",
       " 'mimiciv_derived.first_day_weight',\n",
       " 'mimiciv_derived.kdigo_creatinine',\n",
       " 'mimiciv_derived.meld',\n",
       " 'mimiciv_derived.apsiii',\n",
       " 'mimiciv_derived.lods',\n",
       " 'mimiciv_derived.oasis',\n",
       " 'mimiciv_derived.sapsii',\n",
       " 'mimiciv_derived.sirs',\n",
       " 'mimiciv_derived.sofa',\n",
       " 'mimiciv_derived.suspicion_of_infection',\n",
       " 'mimiciv_derived.kdigo_stages',\n",
       " 'mimiciv_derived.first_day_sofa',\n",
       " 'mimiciv_derived.sepsis3',\n",
       " 'mimiciv_derived.vasoactive_agent',\n",
       " 'mimiciv_derived.norepinephrine_equivalent_dose']"
      ]
     },
     "execution_count": 3,
     "metadata": {},
     "output_type": "execute_result"
    }
   ],
   "source": [
    "db_manager = MimicDBManager(port=5432)\n",
    "db_manager.retrieve_table_names()"
   ]
  },
  {
   "cell_type": "code",
   "execution_count": 4,
   "metadata": {},
   "outputs": [],
   "source": [
    "tables = (\n",
    "    pd.DataFrame.from_dict(\n",
    "        {table: db_manager.retrieve_column_types(table) for table in db_manager.retrieve_table_names()}, orient=\"index\"\n",
    "    )\n",
    "    .fillna(\"-\")\n",
    "    .sort_index()\n",
    "    .reset_index(names=\"full_table_name\")\n",
    ")\n",
    "tables[[\"parent_table\", \"table_name\"]] = tables.full_table_name.str.split(\".\", expand=True)"
   ]
  },
  {
   "cell_type": "code",
   "execution_count": 7,
   "metadata": {},
   "outputs": [
    {
     "data": {
      "text/plain": [
       "['inputevents']"
      ]
     },
     "execution_count": 7,
     "metadata": {},
     "output_type": "execute_result"
    }
   ],
   "source": [
    "[table for table in tables.table_name.to_list() if \"input\" in table]"
   ]
  },
  {
   "cell_type": "code",
   "execution_count": 5,
   "metadata": {},
   "outputs": [
    {
     "data": {
      "text/plain": [
       "Index(['full_table_name', 'subject_id', 'hadm_id', 'itemid', 'storetime',\n",
       "       'starttime', 'caregiver_id', 'originalrate', 'stay_id', 'endtime',\n",
       "       'amount', 'orderid', 'linkorderid', 'patientweight', 'totalamount',\n",
       "       'isopenbag', 'continueinnextdept', 'originalamount', 'rate',\n",
       "       'amountuom', 'ordercategorydescription', 'rateuom', 'totalamountuom',\n",
       "       'statusdescription', 'ordercategoryname', 'secondaryordercategoryname',\n",
       "       'ordercomponenttypedescription', 'parent_table', 'table_name'],\n",
       "      dtype='object')"
      ]
     },
     "execution_count": 5,
     "metadata": {},
     "output_type": "execute_result"
    }
   ],
   "source": [
    "table = \"inputevents\"\n",
    "table_of_interest = tables[tables.table_name == table]\n",
    "table_of_interest.loc[:, ~(table_of_interest == \"-\").all()].columns"
   ]
  },
  {
   "cell_type": "code",
   "execution_count": 6,
   "metadata": {},
   "outputs": [
    {
     "data": {
      "text/plain": [
       "['ventilation',\n",
       " 'ventilator_setting',\n",
       " 'hcpcsevents',\n",
       " 'labevents',\n",
       " 'microbiologyevents',\n",
       " 'chartevents',\n",
       " 'datetimeevents',\n",
       " 'ingredientevents',\n",
       " 'inputevents',\n",
       " 'outputevents',\n",
       " 'procedureevents']"
      ]
     },
     "execution_count": 6,
     "metadata": {},
     "output_type": "execute_result"
    }
   ],
   "source": [
    "[table for table in tables.table_name.to_list() if \"vent\" in table]"
   ]
  },
  {
   "cell_type": "code",
   "execution_count": 11,
   "metadata": {},
   "outputs": [
    {
     "data": {
      "text/plain": [
       "Index(['full_table_name', 'starttime', 'stay_id', 'endtime',\n",
       "       'ventilation_status', 'parent_table', 'table_name'],\n",
       "      dtype='object')"
      ]
     },
     "execution_count": 11,
     "metadata": {},
     "output_type": "execute_result"
    }
   ],
   "source": [
    "table = \"ventilation\"\n",
    "table_of_interest = tables[tables.table_name == table]\n",
    "table_of_interest.loc[:, ~(table_of_interest == \"-\").all()].columns"
   ]
  },
  {
   "cell_type": "code",
   "execution_count": 10,
   "metadata": {},
   "outputs": [
    {
     "data": {
      "text/plain": [
       "['kdigo_creatinine', 'kdigo_stages', 'kdigo_uo']"
      ]
     },
     "execution_count": 10,
     "metadata": {},
     "output_type": "execute_result"
    }
   ],
   "source": [
    "[table for table in tables.table_name.to_list() if \"kdigo\" in table]"
   ]
  },
  {
   "cell_type": "code",
   "execution_count": 13,
   "metadata": {},
   "outputs": [
    {
     "data": {
      "text/html": [
       "<div>\n",
       "<style scoped>\n",
       "    .dataframe tbody tr th:only-of-type {\n",
       "        vertical-align: middle;\n",
       "    }\n",
       "\n",
       "    .dataframe tbody tr th {\n",
       "        vertical-align: top;\n",
       "    }\n",
       "\n",
       "    .dataframe thead th {\n",
       "        text-align: right;\n",
       "    }\n",
       "</style>\n",
       "<table border=\"1\" class=\"dataframe\">\n",
       "  <thead>\n",
       "    <tr style=\"text-align: right;\">\n",
       "      <th></th>\n",
       "      <th>full_table_name</th>\n",
       "      <th>subject_id</th>\n",
       "      <th>hadm_id</th>\n",
       "      <th>charttime</th>\n",
       "      <th>stay_id</th>\n",
       "      <th>uo_rt_6hr</th>\n",
       "      <th>uo_rt_12hr</th>\n",
       "      <th>uo_rt_24hr</th>\n",
       "      <th>creat</th>\n",
       "      <th>creat_low_past_48hr</th>\n",
       "      <th>creat_low_past_7day</th>\n",
       "      <th>aki_stage_creat</th>\n",
       "      <th>aki_stage_uo</th>\n",
       "      <th>aki_stage_crrt</th>\n",
       "      <th>aki_stage</th>\n",
       "      <th>aki_stage_smoothed</th>\n",
       "      <th>parent_table</th>\n",
       "      <th>table_name</th>\n",
       "    </tr>\n",
       "  </thead>\n",
       "  <tbody>\n",
       "    <tr>\n",
       "      <th>36</th>\n",
       "      <td>mimiciv_derived.kdigo_stages</td>\n",
       "      <td>integer</td>\n",
       "      <td>integer</td>\n",
       "      <td>timestamp without time zone</td>\n",
       "      <td>integer</td>\n",
       "      <td>numeric</td>\n",
       "      <td>numeric</td>\n",
       "      <td>numeric</td>\n",
       "      <td>double precision</td>\n",
       "      <td>double precision</td>\n",
       "      <td>double precision</td>\n",
       "      <td>integer</td>\n",
       "      <td>integer</td>\n",
       "      <td>integer</td>\n",
       "      <td>integer</td>\n",
       "      <td>integer</td>\n",
       "      <td>mimiciv_derived</td>\n",
       "      <td>kdigo_stages</td>\n",
       "    </tr>\n",
       "  </tbody>\n",
       "</table>\n",
       "</div>"
      ],
      "text/plain": [
       "                 full_table_name subject_id  hadm_id  \\\n",
       "36  mimiciv_derived.kdigo_stages    integer  integer   \n",
       "\n",
       "                      charttime  stay_id uo_rt_6hr uo_rt_12hr uo_rt_24hr  \\\n",
       "36  timestamp without time zone  integer   numeric    numeric    numeric   \n",
       "\n",
       "               creat creat_low_past_48hr creat_low_past_7day aki_stage_creat  \\\n",
       "36  double precision    double precision    double precision         integer   \n",
       "\n",
       "   aki_stage_uo aki_stage_crrt aki_stage aki_stage_smoothed     parent_table  \\\n",
       "36      integer        integer   integer            integer  mimiciv_derived   \n",
       "\n",
       "      table_name  \n",
       "36  kdigo_stages  "
      ]
     },
     "execution_count": 13,
     "metadata": {},
     "output_type": "execute_result"
    }
   ],
   "source": [
    "table = \"kdigo_stages\"\n",
    "table_of_interest = tables[tables.table_name == table]\n",
    "table_of_interest.loc[:, ~(table_of_interest == \"-\").all()]"
   ]
  },
  {
   "cell_type": "code",
   "execution_count": 14,
   "metadata": {},
   "outputs": [
    {
     "data": {
      "text/plain": [
       "['vasoactive_agent', 'vasopressin']"
      ]
     },
     "execution_count": 14,
     "metadata": {},
     "output_type": "execute_result"
    }
   ],
   "source": [
    "[table for table in tables.table_name.to_list() if \"vaso\" in table]"
   ]
  },
  {
   "cell_type": "code",
   "execution_count": 16,
   "metadata": {},
   "outputs": [
    {
     "data": {
      "text/plain": [
       "Index(['full_table_name', 'starttime', 'stay_id', 'endtime', 'dopamine',\n",
       "       'epinephrine', 'norepinephrine', 'phenylephrine', 'vasopressin',\n",
       "       'dobutamine', 'milrinone', 'parent_table', 'table_name'],\n",
       "      dtype='object')"
      ]
     },
     "execution_count": 16,
     "metadata": {},
     "output_type": "execute_result"
    }
   ],
   "source": [
    "table = \"vasoactive_agent\"\n",
    "table_of_interest = tables[tables.table_name == table]\n",
    "table_of_interest.loc[:, ~(table_of_interest == \"-\").all()].columns"
   ]
  },
  {
   "cell_type": "code",
   "execution_count": 17,
   "metadata": {},
   "outputs": [
    {
     "data": {
      "text/plain": [
       "Index(['full_table_name', 'starttime', 'stay_id', 'endtime', 'linkorderid',\n",
       "       'vaso_rate', 'vaso_amount', 'parent_table', 'table_name'],\n",
       "      dtype='object')"
      ]
     },
     "execution_count": 17,
     "metadata": {},
     "output_type": "execute_result"
    }
   ],
   "source": [
    "table = \"vasopressin\"\n",
    "table_of_interest = tables[tables.table_name == table]\n",
    "table_of_interest.loc[:, ~(table_of_interest == \"-\").all()].columns"
   ]
  }
 ],
 "metadata": {
  "kernelspec": {
   "display_name": "ml_model",
   "language": "python",
   "name": "python3"
  },
  "language_info": {
   "codemirror_mode": {
    "name": "ipython",
    "version": 3
   },
   "file_extension": ".py",
   "mimetype": "text/x-python",
   "name": "python",
   "nbconvert_exporter": "python",
   "pygments_lexer": "ipython3",
   "version": "3.11.9"
  }
 },
 "nbformat": 4,
 "nbformat_minor": 2
}
